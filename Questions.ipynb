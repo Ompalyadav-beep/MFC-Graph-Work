{
 "cells": [
  {
   "cell_type": "markdown",
   "id": "5fbfb020",
   "metadata": {},
   "source": [
    "1.Computing degree of each vertex"
   ]
  },
  {
   "cell_type": "code",
   "execution_count": null,
   "id": "c305f786",
   "metadata": {},
   "outputs": [],
   "source": [
    "# 1. Degree of each vertex and sorting vertices by degree\n",
    "def vertex_degrees(adj_list):\n",
    "    \"\"\"\n",
    "    Compute degree of each vertex in an undirected graph (adjacency list) and\n",
    "    return a tuple (degrees_dict, sorted_vertices) where sorted_vertices is a\n",
    "    list of vertices ordered by increasing degree.\n",
    "    \"\"\"\n",
    "    degrees = {v: len(neighbors) for v, neighbors in adj_list.items()}\n",
    "    sorted_vertices = sorted(degrees, key=lambda v: degrees[v])\n",
    "    return degrees, sorted_vertices\n"
   ]
  },
  {
   "cell_type": "markdown",
   "id": "c2b1b1f9",
   "metadata": {},
   "source": [
    "2.Interconversion of graphs"
   ]
  },
  {
   "cell_type": "code",
   "execution_count": null,
   "id": "84f5ed45",
   "metadata": {},
   "outputs": [],
   "source": [
    "# 2. Inter-convert 3 graph representations: adjacency list, adjacency matrix, edge list\n",
    "\n",
    "def adj_list_to_adj_matrix(adj_list):\n",
    "    \"\"\"\n",
    "    Convert adjacency list to adjacency matrix.\n",
    "    Returns (vertices, matrix), where vertices is the ordered list of nodes.\n",
    "    \"\"\"\n",
    "    vertices = sorted(adj_list)\n",
    "    index = {v: i for i, v in enumerate(vertices)}\n",
    "    n = len(vertices)\n",
    "    matrix = [[0]*n for _ in range(n)]\n",
    "    for v, neighbors in adj_list.items():\n",
    "        for u in neighbors:\n",
    "            matrix[index[v]][index[u]] = 1\n",
    "    return vertices, matrix\n",
    "\n",
    "\n",
    "def adj_matrix_to_adj_list(vertices, matrix):\n",
    "    \"\"\"\n",
    "    Convert adjacency matrix back to adjacency list. Requires passing the vertex ordering.\n",
    "    \"\"\"\n",
    "    n = len(vertices)\n",
    "    adj_list = {v: [] for v in vertices}\n",
    "    for i in range(n):\n",
    "        for j in range(n):\n",
    "            if matrix[i][j]:\n",
    "                adj_list[vertices[i]].append(vertices[j])\n",
    "    return adj_list\n",
    "\n",
    "\n",
    "def adj_list_to_edge_list(adj_list):\n",
    "    \"\"\"\n",
    "    Convert adjacency list to edge list (undirected, no duplicates).\n",
    "    \"\"\"\n",
    "    edges = []\n",
    "    seen = set()\n",
    "    for v, neighbors in adj_list.items():\n",
    "        for u in neighbors:\n",
    "            e = tuple(sorted((v, u)))\n",
    "            if e not in seen:\n",
    "                seen.add(e)\n",
    "                edges.append(e)\n",
    "    return edges\n",
    "\n",
    "\n",
    "def edge_list_to_adj_list(edge_list):\n",
    "    \"\"\"\n",
    "    Convert edge list (list of 2-tuples) to adjacency list.\n",
    "    \"\"\"\n",
    "    adj_list = {}\n",
    "    for u, v in edge_list:\n",
    "        adj_list.setdefault(u, []).append(v)\n",
    "        adj_list.setdefault(v, []).append(u)\n",
    "    return adj_list\n",
    "\n",
    "\n",
    "def adj_matrix_to_edge_list(vertices, matrix):\n",
    "    \"\"\"\n",
    "    Convert adjacency matrix to edge list (undirected, no duplicates).\n",
    "    \"\"\"\n",
    "    edges = []\n",
    "    n = len(vertices)\n",
    "    for i in range(n):\n",
    "        for j in range(i, n):\n",
    "            if matrix[i][j]:\n",
    "                edges.append((vertices[i], vertices[j]))\n",
    "    return edges\n",
    "\n",
    "\n",
    "def edge_list_to_adj_matrix(edge_list):\n",
    "    \"\"\"\n",
    "    Convert edge list to adjacency matrix. Returns (vertices, matrix).\n",
    "    \"\"\"\n",
    "    vertices = sorted({v for edge in edge_list for v in edge})\n",
    "    index = {v: i for i, v in enumerate(vertices)}\n",
    "    n = len(vertices)\n",
    "    matrix = [[0]*n for _ in range(n)]\n",
    "    for u, v in edge_list:\n",
    "        i, j = index[u], index[v]\n",
    "        matrix[i][j] = 1\n",
    "        matrix[j][i] = 1\n",
    "    return vertices, matrix"
   ]
  },
  {
   "cell_type": "markdown",
   "id": "46721f11",
   "metadata": {},
   "source": [
    "3.Checking if two vertices are adjacent in a adj-list graph."
   ]
  },
  {
   "cell_type": "code",
   "execution_count": null,
   "id": "dac057d1",
   "metadata": {},
   "outputs": [],
   "source": [
    "# 3. Check if two vertices are adjacent in an adjacency-list graph\n",
    "def are_adjacent(adj_list, u, v):\n",
    "    \"\"\"\n",
    "    Return True if vertices u and v are directly connected by an edge.\n",
    "    \"\"\"\n",
    "    return v in adj_list.get(u, [])"
   ]
  },
  {
   "cell_type": "markdown",
   "id": "e9f0df5e",
   "metadata": {},
   "source": [
    "4.Checking if a graph is complete or not"
   ]
  },
  {
   "cell_type": "code",
   "execution_count": null,
   "id": "3d2afffc",
   "metadata": {},
   "outputs": [],
   "source": [
    "# 4. Check if a graph is complete\n",
    "def is_complete(adj_list):\n",
    "    \"\"\"\n",
    "    Return True if every pair of distinct vertices is connected by an edge.\n",
    "    \"\"\"\n",
    "    n = len(adj_list)\n",
    "    return all(len(neighbors) == n - 1 for neighbors in adj_list.values())\n"
   ]
  },
  {
   "cell_type": "markdown",
   "id": "4949920f",
   "metadata": {},
   "source": [
    "5.Check if graph is connected."
   ]
  },
  {
   "cell_type": "code",
   "execution_count": null,
   "id": "d729a543",
   "metadata": {},
   "outputs": [],
   "source": [
    "# 5. Check if a graph is connected (undirected)\n",
    "def is_connected(adj_list):\n",
    "    \"\"\"\n",
    "    Return True if every vertex is reachable from any starting vertex (graph is undirected).\n",
    "    \"\"\"\n",
    "    if not adj_list:\n",
    "        return True\n",
    "    visited = set()\n",
    "    def dfs(v):\n",
    "        visited.add(v)\n",
    "        for u in adj_list[v]:\n",
    "            if u not in visited:\n",
    "                dfs(u)\n",
    "    start = next(iter(adj_list))\n",
    "    dfs(start)\n",
    "    return len(visited) == len(adj_list)\n"
   ]
  },
  {
   "cell_type": "markdown",
   "id": "b34c9423",
   "metadata": {},
   "source": [
    "6.Finding if a graph is a walk, path , trial or None"
   ]
  },
  {
   "cell_type": "code",
   "execution_count": null,
   "id": "9b23b003",
   "metadata": {},
   "outputs": [],
   "source": [
    "# 6. Classify a sequence of vertices as walk, trail, path, or none\n",
    "def classify_sequence(adj_list, seq):\n",
    "    \"\"\"\n",
    "    Given a list of vertices, classify it as 'walk', 'trail', 'path', or 'none'.\n",
    "    - Walk: consecutive vertices are adjacent.\n",
    "    - Trail: walk with no repeated edges.\n",
    "    - Path: walk with no repeated vertices.\n",
    "    \"\"\"\n",
    "    # Check if it's a walk\n",
    "    for i in range(len(seq) - 1):\n",
    "        if seq[i+1] not in adj_list.get(seq[i], []):\n",
    "            return 'none'\n",
    "    # It is a walk\n",
    "    # Check for repeated edges\n",
    "    edges = []\n",
    "    for i in range(len(seq) - 1):\n",
    "        u, v = seq[i], seq[i+1]\n",
    "        edges.append(tuple(sorted((u, v))))\n",
    "    is_trail = len(edges) == len(set(edges))\n",
    "    # Check for repeated vertices\n",
    "    is_path = len(seq) == len(set(seq))\n",
    "    if is_path:\n",
    "        return 'path'\n",
    "    if is_trail:\n",
    "        return 'trail'\n",
    "    return 'walk'"
   ]
  },
  {
   "cell_type": "markdown",
   "id": "f135dcab",
   "metadata": {},
   "source": [
    "7.Cheking if a graph is tree i.e connected or cyclic"
   ]
  },
  {
   "cell_type": "code",
   "execution_count": null,
   "id": "ce126e47",
   "metadata": {},
   "outputs": [],
   "source": [
    "# 7. Check if a graph is a tree (connected and acyclic)\n",
    "def is_tree(adj_list):\n",
    "    \"\"\"\n",
    "    Return True if the undirected graph is a tree (connected and |E| = |V| - 1).\n",
    "    \"\"\"\n",
    "    if not is_connected(adj_list):\n",
    "        return False\n",
    "    edges = sum(len(neighbors) for neighbors in adj_list.values()) // 2\n",
    "    return edges == len(adj_list) - 1"
   ]
  },
  {
   "cell_type": "markdown",
   "id": "199c2555",
   "metadata": {},
   "source": [
    "8.Finding spanning tree using Breadth First Search"
   ]
  },
  {
   "cell_type": "code",
   "execution_count": null,
   "id": "1daf0765",
   "metadata": {},
   "outputs": [],
   "source": [
    "# 8. Given a connected cyclic graph, find its spanning tree via BFS\n",
    "def spanning_tree(adj_list):\n",
    "    \"\"\"\n",
    "    Return the edges of a spanning tree of a connected undirected graph (as list of tuples).\n",
    "    \"\"\"\n",
    "    visited = set()\n",
    "    tree_edges = []\n",
    "    start = next(iter(adj_list))\n",
    "    q = deque([start])\n",
    "    visited.add(start)\n",
    "    while q:\n",
    "        v = q.popleft()\n",
    "        for u in adj_list[v]:\n",
    "            if u not in visited:\n",
    "                visited.add(u)\n",
    "                tree_edges.append((v, u))\n",
    "                q.append(u)\n",
    "    return tree_edges"
   ]
  },
  {
   "cell_type": "markdown",
   "id": "0ee1d553",
   "metadata": {},
   "source": [
    "9.Finding number of leaf nodes."
   ]
  },
  {
   "cell_type": "code",
   "execution_count": null,
   "id": "31ddb7eb",
   "metadata": {},
   "outputs": [],
   "source": [
    "# 9. Given a tree, find the number of leaf nodes\n",
    "def count_leaves(adj_list):\n",
    "    \"\"\"\n",
    "    Return the number of leaves (vertices of degree 1) in a tree.\n",
    "    \"\"\"\n",
    "    return sum(1 for neighbors in adj_list.values() if len(neighbors) == 1)"
   ]
  },
  {
   "cell_type": "markdown",
   "id": "fd0ac751",
   "metadata": {},
   "source": [
    "10.Finding if a tree is binary tree or not."
   ]
  },
  {
   "cell_type": "code",
   "execution_count": null,
   "id": "affe52ba",
   "metadata": {},
   "outputs": [],
   "source": [
    "# 10. Given a tree, check if it's a binary tree (rooted)\n",
    "def is_binary_tree(adj_list, root):\n",
    "    \"\"\"\n",
    "    Return True if the rooted tree has at most 2 children per node.\n",
    "    \"\"\"\n",
    "    def dfs(v, parent):\n",
    "        child_count = 0\n",
    "        for u in adj_list[v]:\n",
    "            if u != parent:\n",
    "                child_count += 1\n",
    "                if child_count > 2:\n",
    "                    return False\n",
    "                if not dfs(u, v):\n",
    "                    return False\n",
    "        return True\n",
    "    return dfs(root, None)"
   ]
  },
  {
   "cell_type": "markdown",
   "id": "fe2f6294",
   "metadata": {},
   "source": [
    "11.Finding height of tree"
   ]
  },
  {
   "cell_type": "code",
   "execution_count": null,
   "id": "3edb13e6",
   "metadata": {},
   "outputs": [],
   "source": [
    "# 11. Given a tree and a node, find its height (longest path to a leaf)\n",
    "def height(adj_list, node, parent=None):\n",
    "    \"\"\"\n",
    "    Return the height of the subtree rooted at node (number of edges in longest path to a leaf).\n",
    "    \"\"\"\n",
    "    max_h = 0\n",
    "    for u in adj_list[node]:\n",
    "        if u != parent:\n",
    "            h = height(adj_list, u, node)\n",
    "            if h > max_h:\n",
    "                max_h = h\n",
    "    return max_h + (0 if parent is not None and max_h == 0 and len(adj_list[node]) == 1 else 1)\n"
   ]
  },
  {
   "cell_type": "markdown",
   "id": "df5db22b",
   "metadata": {},
   "source": [
    "12.Finding depth from the root."
   ]
  },
  {
   "cell_type": "code",
   "execution_count": null,
   "id": "3443c5bd",
   "metadata": {},
   "outputs": [],
   "source": [
    "\n",
    "# 12. Given a tree and a node, find its depth from the root\n",
    "def depth(adj_list, node, root):\n",
    "    \"\"\"\n",
    "    Return the depth (number of edges from root) to reach node using BFS.\n",
    "    \"\"\"\n",
    "    visited = {root}\n",
    "    dist = {root: 0}\n",
    "    q = deque([root])\n",
    "    while q:\n",
    "        v = q.popleft()\n",
    "        for u in adj_list[v]:\n",
    "            if u not in visited:\n",
    "                visited.add(u)\n",
    "                dist[u] = dist[v] + 1\n",
    "                q.append(u)\n",
    "    return dist.get(node, None)\n"
   ]
  }
 ],
 "metadata": {
  "kernelspec": {
   "display_name": "Python 3",
   "language": "python",
   "name": "python3"
  },
  "language_info": {
   "codemirror_mode": {
    "name": "ipython",
    "version": 3
   },
   "file_extension": ".py",
   "mimetype": "text/x-python",
   "name": "python",
   "nbconvert_exporter": "python",
   "pygments_lexer": "ipython3",
   "version": "3.12.5"
  }
 },
 "nbformat": 4,
 "nbformat_minor": 5
}
